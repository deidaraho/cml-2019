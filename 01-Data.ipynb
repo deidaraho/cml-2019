{
 "cells": [
  {
   "cell_type": "markdown",
   "metadata": {},
   "source": [
    "# Data Science is Data ... and Science\n",
    "\n",
    "__Great... What does that mean?__\n",
    "\n",
    "<img src=\"https://materials.s3.amazonaws.com/i/QS5fKym.jpg\" width=700>"
   ]
  },
  {
   "cell_type": "markdown",
   "metadata": {},
   "source": [
    "__Wow ... that's a whole lot of ... stuff to learn.__\n",
    "\n",
    "We'll take it one step at a time. Note that the *model* part that everyone loves comes near the end, and isn't the biggest part. (You may have seen a much less pretty Google image that makes this same point.)\n",
    "\n",
    "*We're going to start with __Data__ and the __questions__ we might ask*"
   ]
  },
  {
   "cell_type": "markdown",
   "metadata": {},
   "source": [
    "## Data\n",
    "\n",
    "<img src=\"https://materials.s3.amazonaws.com/i/rbcnjIr.jpg\">\n",
    "\n",
    "* __Kinds__\n",
    "  * String, discrete / categorical, continuous\n",
    "  * Encodings, precision, etc.\n",
    "* __Records and Fields__\n",
    "  * Data Dictionaries\n",
    "    * e.g., \"1=North America, 2=South America\"\n",
    "  * Where does the \"buck stop\" on business knowledge?\n",
    "    * e.g., Who knows how/why/when Costa Rica was assigned to ... ?\n",
    "* __Sources__\n",
    "* __Size__\n",
    "* __Sampling__\n",
    "* __\"data\" vs. \"capta\"__\n",
    "* __Value? (e.g., neighbor)__"
   ]
  },
  {
   "cell_type": "markdown",
   "metadata": {},
   "source": [
    "## Questions \n",
    "### Experiments, the Science part of Data Science\n",
    "\n",
    "<img src=\"https://materials.s3.amazonaws.com/i/QfaKplG.jpg\" width=600>\n",
    "<br><br>\n",
    "\n",
    "* __Prediction__\n",
    "  * Past data to predict future (e.g., weather)\n",
    "  * Local data to predict general (e.g., handwriting recognition)\n",
    "* __Experiments need (ideally)...__\n",
    "  * Clear hypothesis\n",
    "  * Clear \"null hypothesis\"\n",
    "  * Reproducibility\n",
    "  * Methodology chosen *before* looking at the data/results"
   ]
  },
  {
   "cell_type": "markdown",
   "metadata": {},
   "source": [
    "## Why is this Hard?\n",
    "\n",
    "__Poor understanding of the data__\n",
    "\n",
    "* Incomplete picture\n",
    "  * e.g., small diamonds\n",
    "* Biased picture\n",
    "  * Cognitive biases, reasoning difficulties\n",
    "    * Monty Hall\n",
    "    * Simpson's paradox\n",
    "  * Induced / selection biases\n",
    "    * Berkson's paradox\n",
    "\n",
    "__Poor separation of signal from noise__\n",
    "\n",
    "<img src=\"https://materials.s3.amazonaws.com/i/xvh6lXe.png\" width=200>\n",
    "\n",
    "__Ill-posed problems__\n",
    "\n",
    "\"Who are the best customers?\" ... \"What is this a picture of?\""
   ]
  },
  {
   "cell_type": "markdown",
   "metadata": {},
   "source": [
    "## Where do we Start?\n",
    "\n",
    "#### Exploratory Data Analysis\n",
    "\n",
    "We can dive right in ... assuming we have easy access to query the data"
   ]
  },
  {
   "cell_type": "markdown",
   "metadata": {},
   "source": [
    "### Querying a SQL database is pretty easy ... why isn't everything this easy?\n",
    "\n",
    "Why wouldn't a company put every piece of data into a relational (SQL) database?\n",
    "\n",
    "What are some tradeoffs to associated with relational systems?\n",
    "\n",
    "When are the tradeoffs worth it?"
   ]
  },
  {
   "cell_type": "markdown",
   "metadata": {},
   "source": [
    "### But if we can get the data and query it, it's downhill from there, right?\n",
    "\n",
    "<img src=\"https://materials.s3.amazonaws.com/i/f6reoje.png\" width=200> <img src=\"https://materials.s3.amazonaws.com/i/guyiu4h.jpg\"> <img src=\"https://materials.s3.amazonaws.com/i/3IFawyV.png\" width=180>\n",
    "\n",
    "* 2005 Dom Perignon Rose, 100 pts, $270\n",
    "* 2009 Roederer Cristal, 96 pts, $179\n",
    "* NV Mumm Napa Brut Prestige, 91-92 pts, $19\n",
    "\n",
    "#### Try this...\n",
    "\n",
    "1. What is the lowest-rated wine you can find online?\n",
    "2. What is the range of wine ratings?\n",
    "\n",
    "Suppose we build a dataset of wines and their ratings. \n",
    "1. What kind of business questions (and answers) might be useful?\n",
    "2. Leaving aside the subjectivity of human tasters, what are some problems with this data?\n",
    "\n",
    "Everything would be easier if one organization (?) used consistent standards (?) and data (?) to provide ratings, right?\n",
    "* https://www.consumerreports.org/consumerist/can-you-trust-those-awards-you-see-in-auto-ads/\n",
    "* https://money.cnn.com/2015/09/30/news/better-business-bureau-millions/index.html\n",
    "\n",
    "It all works better at Internet scale, where millions of data points can be aggregated, right?\n",
    "* https://www.forbes.com/sites/jimhandy/2012/08/16/think-yelp-is-unbiased-think-again\n",
    "* https://www.sfgate.com/news/article/Yelp-can-give-paying-clients-better-ratings-5731200.php\n",
    "\n",
    "But some companies just tabulate the data, and the scale is clear -- like the ubiquitous 1-5 stars, right?\n",
    "* https://therideshareguy.com/how-to-avoid-deactivation-as-an-uber-and-lyft-driver/\n",
    "\n",
    "At least it will be straightforward when we're analyzing physical, natural, plentiful data with simple sensors, right?\n",
    "* https://gizmodo.com/why-cant-this-soap-dispenser-identify-dark-skin-1797931773"
   ]
  },
  {
   "cell_type": "markdown",
   "metadata": {},
   "source": [
    "## What's the Point?\n",
    "\n",
    "* Make sure we have the \"right\" data\n",
    "* Understand the data\n",
    "* Be careful about the interpretive tools we apply\n",
    "* Consider the predictive power of the dataset\n",
    "\n",
    "We'll talk more about statistics in a little bit."
   ]
  },
  {
   "cell_type": "markdown",
   "metadata": {},
   "source": [
    "### Where to start when someone just \"hands us\" a pile of data?\n",
    "\n",
    "#### Data access, parsing, ingestion, \"wrangling\"\n",
    "\n",
    "https://en.wikipedia.org/wiki/Data_wrangling\n",
    "\n",
    "Let's look at some real but fairly \"clean\" data to begin with, unlike most real-world data."
   ]
  },
  {
   "cell_type": "markdown",
   "metadata": {},
   "source": [
    "### Lab Activity: CSV"
   ]
  },
  {
   "cell_type": "code",
   "execution_count": 2,
   "metadata": {},
   "outputs": [
    {
     "name": "stdout",
     "output_type": "stream",
     "text": [
      "diamonds.csv   housing.csv    powerplant.csv\n"
     ]
    }
   ],
   "source": [
    "! ls data"
   ]
  },
  {
   "cell_type": "code",
   "execution_count": 5,
   "metadata": {},
   "outputs": [],
   "source": [
    "import pandas as pd"
   ]
  },
  {
   "cell_type": "markdown",
   "metadata": {},
   "source": [
    "__What is Pandas?!__\n",
    "\n",
    "https://pandas.pydata.org/\n",
    "\n",
    "https://pandas.pydata.org/pandas-docs/stable/10min.html"
   ]
  },
  {
   "cell_type": "code",
   "execution_count": 6,
   "metadata": {},
   "outputs": [],
   "source": [
    "df = pd.read_csv(\"data/housing.csv\", comment=\"#\")"
   ]
  },
  {
   "cell_type": "code",
   "execution_count": 7,
   "metadata": {},
   "outputs": [
    {
     "data": {
      "text/html": [
       "<div>\n",
       "<style scoped>\n",
       "    .dataframe tbody tr th:only-of-type {\n",
       "        vertical-align: middle;\n",
       "    }\n",
       "\n",
       "    .dataframe tbody tr th {\n",
       "        vertical-align: top;\n",
       "    }\n",
       "\n",
       "    .dataframe thead th {\n",
       "        text-align: right;\n",
       "    }\n",
       "</style>\n",
       "<table border=\"1\" class=\"dataframe\">\n",
       "  <thead>\n",
       "    <tr style=\"text-align: right;\">\n",
       "      <th></th>\n",
       "      <th>in_sf</th>\n",
       "      <th>beds</th>\n",
       "      <th>bath</th>\n",
       "      <th>price</th>\n",
       "      <th>year_built</th>\n",
       "      <th>sqft</th>\n",
       "      <th>price_per_sqft</th>\n",
       "      <th>elevation</th>\n",
       "    </tr>\n",
       "  </thead>\n",
       "  <tbody>\n",
       "    <tr>\n",
       "      <td>0</td>\n",
       "      <td>0</td>\n",
       "      <td>2.0</td>\n",
       "      <td>1.0</td>\n",
       "      <td>999000</td>\n",
       "      <td>1960</td>\n",
       "      <td>1000</td>\n",
       "      <td>999</td>\n",
       "      <td>10</td>\n",
       "    </tr>\n",
       "    <tr>\n",
       "      <td>1</td>\n",
       "      <td>0</td>\n",
       "      <td>2.0</td>\n",
       "      <td>2.0</td>\n",
       "      <td>2750000</td>\n",
       "      <td>2006</td>\n",
       "      <td>1418</td>\n",
       "      <td>1939</td>\n",
       "      <td>0</td>\n",
       "    </tr>\n",
       "    <tr>\n",
       "      <td>2</td>\n",
       "      <td>0</td>\n",
       "      <td>2.0</td>\n",
       "      <td>2.0</td>\n",
       "      <td>1350000</td>\n",
       "      <td>1900</td>\n",
       "      <td>2150</td>\n",
       "      <td>628</td>\n",
       "      <td>9</td>\n",
       "    </tr>\n",
       "    <tr>\n",
       "      <td>3</td>\n",
       "      <td>0</td>\n",
       "      <td>1.0</td>\n",
       "      <td>1.0</td>\n",
       "      <td>629000</td>\n",
       "      <td>1903</td>\n",
       "      <td>500</td>\n",
       "      <td>1258</td>\n",
       "      <td>9</td>\n",
       "    </tr>\n",
       "    <tr>\n",
       "      <td>4</td>\n",
       "      <td>0</td>\n",
       "      <td>0.0</td>\n",
       "      <td>1.0</td>\n",
       "      <td>439000</td>\n",
       "      <td>1930</td>\n",
       "      <td>500</td>\n",
       "      <td>878</td>\n",
       "      <td>10</td>\n",
       "    </tr>\n",
       "    <tr>\n",
       "      <td>...</td>\n",
       "      <td>...</td>\n",
       "      <td>...</td>\n",
       "      <td>...</td>\n",
       "      <td>...</td>\n",
       "      <td>...</td>\n",
       "      <td>...</td>\n",
       "      <td>...</td>\n",
       "      <td>...</td>\n",
       "    </tr>\n",
       "    <tr>\n",
       "      <td>487</td>\n",
       "      <td>1</td>\n",
       "      <td>5.0</td>\n",
       "      <td>2.5</td>\n",
       "      <td>1800000</td>\n",
       "      <td>1890</td>\n",
       "      <td>3073</td>\n",
       "      <td>586</td>\n",
       "      <td>76</td>\n",
       "    </tr>\n",
       "    <tr>\n",
       "      <td>488</td>\n",
       "      <td>1</td>\n",
       "      <td>2.0</td>\n",
       "      <td>1.0</td>\n",
       "      <td>695000</td>\n",
       "      <td>1923</td>\n",
       "      <td>1045</td>\n",
       "      <td>665</td>\n",
       "      <td>106</td>\n",
       "    </tr>\n",
       "    <tr>\n",
       "      <td>489</td>\n",
       "      <td>1</td>\n",
       "      <td>3.0</td>\n",
       "      <td>2.0</td>\n",
       "      <td>1650000</td>\n",
       "      <td>1922</td>\n",
       "      <td>1483</td>\n",
       "      <td>1113</td>\n",
       "      <td>106</td>\n",
       "    </tr>\n",
       "    <tr>\n",
       "      <td>490</td>\n",
       "      <td>1</td>\n",
       "      <td>1.0</td>\n",
       "      <td>1.0</td>\n",
       "      <td>649000</td>\n",
       "      <td>1983</td>\n",
       "      <td>850</td>\n",
       "      <td>764</td>\n",
       "      <td>163</td>\n",
       "    </tr>\n",
       "    <tr>\n",
       "      <td>491</td>\n",
       "      <td>1</td>\n",
       "      <td>3.0</td>\n",
       "      <td>2.0</td>\n",
       "      <td>995000</td>\n",
       "      <td>1956</td>\n",
       "      <td>1305</td>\n",
       "      <td>762</td>\n",
       "      <td>216</td>\n",
       "    </tr>\n",
       "  </tbody>\n",
       "</table>\n",
       "<p>492 rows × 8 columns</p>\n",
       "</div>"
      ],
      "text/plain": [
       "     in_sf  beds  bath    price  year_built  sqft  price_per_sqft  elevation\n",
       "0        0   2.0   1.0   999000        1960  1000             999         10\n",
       "1        0   2.0   2.0  2750000        2006  1418            1939          0\n",
       "2        0   2.0   2.0  1350000        1900  2150             628          9\n",
       "3        0   1.0   1.0   629000        1903   500            1258          9\n",
       "4        0   0.0   1.0   439000        1930   500             878         10\n",
       "..     ...   ...   ...      ...         ...   ...             ...        ...\n",
       "487      1   5.0   2.5  1800000        1890  3073             586         76\n",
       "488      1   2.0   1.0   695000        1923  1045             665        106\n",
       "489      1   3.0   2.0  1650000        1922  1483            1113        106\n",
       "490      1   1.0   1.0   649000        1983   850             764        163\n",
       "491      1   3.0   2.0   995000        1956  1305             762        216\n",
       "\n",
       "[492 rows x 8 columns]"
      ]
     },
     "execution_count": 7,
     "metadata": {},
     "output_type": "execute_result"
    }
   ],
   "source": [
    "df"
   ]
  },
  {
   "cell_type": "code",
   "execution_count": 8,
   "metadata": {},
   "outputs": [
    {
     "data": {
      "text/html": [
       "<div>\n",
       "<style scoped>\n",
       "    .dataframe tbody tr th:only-of-type {\n",
       "        vertical-align: middle;\n",
       "    }\n",
       "\n",
       "    .dataframe tbody tr th {\n",
       "        vertical-align: top;\n",
       "    }\n",
       "\n",
       "    .dataframe thead th {\n",
       "        text-align: right;\n",
       "    }\n",
       "</style>\n",
       "<table border=\"1\" class=\"dataframe\">\n",
       "  <thead>\n",
       "    <tr style=\"text-align: right;\">\n",
       "      <th></th>\n",
       "      <th>in_sf</th>\n",
       "      <th>beds</th>\n",
       "      <th>bath</th>\n",
       "      <th>price</th>\n",
       "      <th>year_built</th>\n",
       "      <th>sqft</th>\n",
       "      <th>price_per_sqft</th>\n",
       "      <th>elevation</th>\n",
       "    </tr>\n",
       "  </thead>\n",
       "  <tbody>\n",
       "    <tr>\n",
       "      <td>count</td>\n",
       "      <td>492.000000</td>\n",
       "      <td>492.000000</td>\n",
       "      <td>492.000000</td>\n",
       "      <td>4.920000e+02</td>\n",
       "      <td>492.000000</td>\n",
       "      <td>492.000000</td>\n",
       "      <td>492.000000</td>\n",
       "      <td>492.000000</td>\n",
       "    </tr>\n",
       "    <tr>\n",
       "      <td>mean</td>\n",
       "      <td>0.544715</td>\n",
       "      <td>2.155488</td>\n",
       "      <td>1.905691</td>\n",
       "      <td>2.020696e+06</td>\n",
       "      <td>1959.103659</td>\n",
       "      <td>1522.989837</td>\n",
       "      <td>1195.632114</td>\n",
       "      <td>39.845528</td>\n",
       "    </tr>\n",
       "    <tr>\n",
       "      <td>std</td>\n",
       "      <td>0.498503</td>\n",
       "      <td>1.305133</td>\n",
       "      <td>1.068150</td>\n",
       "      <td>2.824055e+06</td>\n",
       "      <td>40.579602</td>\n",
       "      <td>1014.366252</td>\n",
       "      <td>733.765622</td>\n",
       "      <td>44.673248</td>\n",
       "    </tr>\n",
       "    <tr>\n",
       "      <td>min</td>\n",
       "      <td>0.000000</td>\n",
       "      <td>0.000000</td>\n",
       "      <td>1.000000</td>\n",
       "      <td>1.875180e+05</td>\n",
       "      <td>1880.000000</td>\n",
       "      <td>310.000000</td>\n",
       "      <td>270.000000</td>\n",
       "      <td>0.000000</td>\n",
       "    </tr>\n",
       "    <tr>\n",
       "      <td>25%</td>\n",
       "      <td>0.000000</td>\n",
       "      <td>1.000000</td>\n",
       "      <td>1.000000</td>\n",
       "      <td>7.490000e+05</td>\n",
       "      <td>1924.000000</td>\n",
       "      <td>832.750000</td>\n",
       "      <td>730.500000</td>\n",
       "      <td>10.000000</td>\n",
       "    </tr>\n",
       "    <tr>\n",
       "      <td>50%</td>\n",
       "      <td>1.000000</td>\n",
       "      <td>2.000000</td>\n",
       "      <td>2.000000</td>\n",
       "      <td>1.145000e+06</td>\n",
       "      <td>1960.000000</td>\n",
       "      <td>1312.000000</td>\n",
       "      <td>960.000000</td>\n",
       "      <td>18.500000</td>\n",
       "    </tr>\n",
       "    <tr>\n",
       "      <td>75%</td>\n",
       "      <td>1.000000</td>\n",
       "      <td>3.000000</td>\n",
       "      <td>2.000000</td>\n",
       "      <td>1.908750e+06</td>\n",
       "      <td>2001.000000</td>\n",
       "      <td>1809.000000</td>\n",
       "      <td>1419.000000</td>\n",
       "      <td>61.000000</td>\n",
       "    </tr>\n",
       "    <tr>\n",
       "      <td>max</td>\n",
       "      <td>1.000000</td>\n",
       "      <td>10.000000</td>\n",
       "      <td>10.000000</td>\n",
       "      <td>2.750000e+07</td>\n",
       "      <td>2016.000000</td>\n",
       "      <td>7800.000000</td>\n",
       "      <td>4601.000000</td>\n",
       "      <td>238.000000</td>\n",
       "    </tr>\n",
       "  </tbody>\n",
       "</table>\n",
       "</div>"
      ],
      "text/plain": [
       "            in_sf        beds        bath         price   year_built  \\\n",
       "count  492.000000  492.000000  492.000000  4.920000e+02   492.000000   \n",
       "mean     0.544715    2.155488    1.905691  2.020696e+06  1959.103659   \n",
       "std      0.498503    1.305133    1.068150  2.824055e+06    40.579602   \n",
       "min      0.000000    0.000000    1.000000  1.875180e+05  1880.000000   \n",
       "25%      0.000000    1.000000    1.000000  7.490000e+05  1924.000000   \n",
       "50%      1.000000    2.000000    2.000000  1.145000e+06  1960.000000   \n",
       "75%      1.000000    3.000000    2.000000  1.908750e+06  2001.000000   \n",
       "max      1.000000   10.000000   10.000000  2.750000e+07  2016.000000   \n",
       "\n",
       "              sqft  price_per_sqft   elevation  \n",
       "count   492.000000      492.000000  492.000000  \n",
       "mean   1522.989837     1195.632114   39.845528  \n",
       "std    1014.366252      733.765622   44.673248  \n",
       "min     310.000000      270.000000    0.000000  \n",
       "25%     832.750000      730.500000   10.000000  \n",
       "50%    1312.000000      960.000000   18.500000  \n",
       "75%    1809.000000     1419.000000   61.000000  \n",
       "max    7800.000000     4601.000000  238.000000  "
      ]
     },
     "execution_count": 8,
     "metadata": {},
     "output_type": "execute_result"
    }
   ],
   "source": [
    "df.describe()"
   ]
  },
  {
   "cell_type": "markdown",
   "metadata": {},
   "source": [
    "Some basic queries..."
   ]
  },
  {
   "cell_type": "code",
   "execution_count": 9,
   "metadata": {},
   "outputs": [
    {
     "data": {
      "text/html": [
       "<div>\n",
       "<style scoped>\n",
       "    .dataframe tbody tr th:only-of-type {\n",
       "        vertical-align: middle;\n",
       "    }\n",
       "\n",
       "    .dataframe tbody tr th {\n",
       "        vertical-align: top;\n",
       "    }\n",
       "\n",
       "    .dataframe thead th {\n",
       "        text-align: right;\n",
       "    }\n",
       "</style>\n",
       "<table border=\"1\" class=\"dataframe\">\n",
       "  <thead>\n",
       "    <tr style=\"text-align: right;\">\n",
       "      <th></th>\n",
       "      <th>beds</th>\n",
       "      <th>bath</th>\n",
       "      <th>price</th>\n",
       "      <th>year_built</th>\n",
       "      <th>sqft</th>\n",
       "      <th>price_per_sqft</th>\n",
       "      <th>elevation</th>\n",
       "    </tr>\n",
       "    <tr>\n",
       "      <th>in_sf</th>\n",
       "      <th></th>\n",
       "      <th></th>\n",
       "      <th></th>\n",
       "      <th></th>\n",
       "      <th></th>\n",
       "      <th></th>\n",
       "      <th></th>\n",
       "    </tr>\n",
       "  </thead>\n",
       "  <tbody>\n",
       "    <tr>\n",
       "      <td>0</td>\n",
       "      <td>1.734375</td>\n",
       "      <td>1.819196</td>\n",
       "      <td>2.787579e+06</td>\n",
       "      <td>1965.142857</td>\n",
       "      <td>1398.044643</td>\n",
       "      <td>1626.522321</td>\n",
       "      <td>13.504464</td>\n",
       "    </tr>\n",
       "    <tr>\n",
       "      <td>1</td>\n",
       "      <td>2.507463</td>\n",
       "      <td>1.977985</td>\n",
       "      <td>1.379719e+06</td>\n",
       "      <td>1954.055970</td>\n",
       "      <td>1627.421642</td>\n",
       "      <td>835.485075</td>\n",
       "      <td>61.861940</td>\n",
       "    </tr>\n",
       "  </tbody>\n",
       "</table>\n",
       "</div>"
      ],
      "text/plain": [
       "           beds      bath         price   year_built         sqft  \\\n",
       "in_sf                                                               \n",
       "0      1.734375  1.819196  2.787579e+06  1965.142857  1398.044643   \n",
       "1      2.507463  1.977985  1.379719e+06  1954.055970  1627.421642   \n",
       "\n",
       "       price_per_sqft  elevation  \n",
       "in_sf                             \n",
       "0         1626.522321  13.504464  \n",
       "1          835.485075  61.861940  "
      ]
     },
     "execution_count": 9,
     "metadata": {},
     "output_type": "execute_result"
    }
   ],
   "source": [
    "df.groupby('in_sf').mean()"
   ]
  },
  {
   "cell_type": "code",
   "execution_count": 10,
   "metadata": {},
   "outputs": [
    {
     "data": {
      "text/plain": [
       "in_sf\n",
       "0    2.787579e+06\n",
       "1    1.379719e+06\n",
       "Name: price, dtype: float64"
      ]
     },
     "execution_count": 10,
     "metadata": {},
     "output_type": "execute_result"
    }
   ],
   "source": [
    "df.groupby('in_sf').mean()['price']"
   ]
  },
  {
   "cell_type": "code",
   "execution_count": 11,
   "metadata": {},
   "outputs": [
    {
     "data": {
      "text/html": [
       "<div>\n",
       "<style scoped>\n",
       "    .dataframe tbody tr th:only-of-type {\n",
       "        vertical-align: middle;\n",
       "    }\n",
       "\n",
       "    .dataframe tbody tr th {\n",
       "        vertical-align: top;\n",
       "    }\n",
       "\n",
       "    .dataframe thead th {\n",
       "        text-align: right;\n",
       "    }\n",
       "</style>\n",
       "<table border=\"1\" class=\"dataframe\">\n",
       "  <thead>\n",
       "    <tr style=\"text-align: right;\">\n",
       "      <th></th>\n",
       "      <th>price</th>\n",
       "      <th>sqft</th>\n",
       "    </tr>\n",
       "    <tr>\n",
       "      <th>in_sf</th>\n",
       "      <th></th>\n",
       "      <th></th>\n",
       "    </tr>\n",
       "  </thead>\n",
       "  <tbody>\n",
       "    <tr>\n",
       "      <td>0</td>\n",
       "      <td>2.787579e+06</td>\n",
       "      <td>1398.044643</td>\n",
       "    </tr>\n",
       "    <tr>\n",
       "      <td>1</td>\n",
       "      <td>1.379719e+06</td>\n",
       "      <td>1627.421642</td>\n",
       "    </tr>\n",
       "  </tbody>\n",
       "</table>\n",
       "</div>"
      ],
      "text/plain": [
       "              price         sqft\n",
       "in_sf                           \n",
       "0      2.787579e+06  1398.044643\n",
       "1      1.379719e+06  1627.421642"
      ]
     },
     "execution_count": 11,
     "metadata": {},
     "output_type": "execute_result"
    }
   ],
   "source": [
    "df.groupby('in_sf').mean()[['price', 'sqft']]"
   ]
  },
  {
   "cell_type": "code",
   "execution_count": 12,
   "metadata": {},
   "outputs": [],
   "source": [
    "import matplotlib.pyplot as plt"
   ]
  },
  {
   "cell_type": "markdown",
   "metadata": {},
   "source": [
    "Ok, __what's Matplotlib??__\n",
    "\n",
    "https://matplotlib.org/\n",
    "\n",
    "https://matplotlib.org/tutorials/introductory/usage.html#sphx-glr-tutorials-introductory-usage-py"
   ]
  },
  {
   "cell_type": "code",
   "execution_count": 13,
   "metadata": {},
   "outputs": [
    {
     "data": {
      "text/plain": [
       "[<matplotlib.lines.Line2D at 0x119a61e10>]"
      ]
     },
     "execution_count": 13,
     "metadata": {},
     "output_type": "execute_result"
    },
    {
     "data": {
      "image/png": "[encoded data removed]",
      "text/plain": [
       "<Figure size 432x288 with 1 Axes>"
      ]
     },
     "metadata": {
      "needs_background": "light"
     },
     "output_type": "display_data"
    }
   ],
   "source": [
    "plt.plot(df.sqft, df.price, '.')"
   ]
  },
  {
   "cell_type": "code",
   "execution_count": 16,
   "metadata": {},
   "outputs": [
    {
     "data": {
      "text/plain": [
       "<matplotlib.axes._subplots.AxesSubplot at 0x11ebb77d0>"
      ]
     },
     "execution_count": 16,
     "metadata": {},
     "output_type": "execute_result"
    },
    {
     "data": {
      "image/png": "[encoded data removed]",
      "text/plain": [
       "<Figure size 432x288 with 1 Axes>"
      ]
     },
     "metadata": {
      "needs_background": "light"
     },
     "output_type": "display_data"
    }
   ],
   "source": [
    "df.plot('sqft', 'price', 'scatter')"
   ]
  },
  {
   "cell_type": "code",
   "execution_count": 14,
   "metadata": {},
   "outputs": [
    {
     "data": {
      "text/plain": [
       "\u001b[0;31mSignature:\u001b[0m    \u001b[0mdf\u001b[0m\u001b[0;34m.\u001b[0m\u001b[0mplot\u001b[0m\u001b[0;34m(\u001b[0m\u001b[0;34m*\u001b[0m\u001b[0margs\u001b[0m\u001b[0;34m,\u001b[0m \u001b[0;34m**\u001b[0m\u001b[0mkwargs\u001b[0m\u001b[0;34m)\u001b[0m\u001b[0;34m\u001b[0m\u001b[0;34m\u001b[0m\u001b[0m\n",
       "\u001b[0;31mType:\u001b[0m        PlotAccessor\n",
       "\u001b[0;31mString form:\u001b[0m <pandas.plotting._core.PlotAccessor object at 0x11d2d39d0>\n",
       "\u001b[0;31mFile:\u001b[0m        ~/anaconda3/envs/jupyterexperiments/lib/python3.7/site-packages/pandas/plotting/_core.py\n",
       "\u001b[0;31mDocstring:\u001b[0m  \n",
       "Make plots of Series or DataFrame using the backend specified by the\n",
       "option ``plotting.backend``. By default, matplotlib is used.\n",
       "\n",
       "Parameters\n",
       "----------\n",
       "data : Series or DataFrame\n",
       "    The object for which the method is called\n",
       "x : label or position, default None\n",
       "    Only used if data is a DataFrame.\n",
       "y : label, position or list of label, positions, default None\n",
       "    Allows plotting of one column versus another. Only used if data is a\n",
       "    DataFrame.\n",
       "kind : str\n",
       "    - 'line' : line plot (default)\n",
       "    - 'bar' : vertical bar plot\n",
       "    - 'barh' : horizontal bar plot\n",
       "    - 'hist' : histogram\n",
       "    - 'box' : boxplot\n",
       "    - 'kde' : Kernel Density Estimation plot\n",
       "    - 'density' : same as 'kde'\n",
       "    - 'area' : area plot\n",
       "    - 'pie' : pie plot\n",
       "    - 'scatter' : scatter plot\n",
       "    - 'hexbin' : hexbin plot\n",
       "figsize : a tuple (width, height) in inches\n",
       "use_index : bool, default True\n",
       "    Use index as ticks for x axis\n",
       "title : string or list\n",
       "    Title to use for the plot. If a string is passed, print the string\n",
       "    at the top of the figure. If a list is passed and `subplots` is\n",
       "    True, print each item in the list above the corresponding subplot.\n",
       "grid : bool, default None (matlab style default)\n",
       "    Axis grid lines\n",
       "legend : False/True/'reverse'\n",
       "    Place legend on axis subplots\n",
       "style : list or dict\n",
       "    matplotlib line style per column\n",
       "logx : bool or 'sym', default False\n",
       "    Use log scaling or symlog scaling on x axis\n",
       "    .. versionchanged:: 0.25.0\n",
       "\n",
       "logy : bool or 'sym' default False\n",
       "    Use log scaling or symlog scaling on y axis\n",
       "    .. versionchanged:: 0.25.0\n",
       "\n",
       "loglog : bool or 'sym', default False\n",
       "    Use log scaling or symlog scaling on both x and y axes\n",
       "    .. versionchanged:: 0.25.0\n",
       "\n",
       "xticks : sequence\n",
       "    Values to use for the xticks\n",
       "yticks : sequence\n",
       "    Values to use for the yticks\n",
       "xlim : 2-tuple/list\n",
       "ylim : 2-tuple/list\n",
       "rot : int, default None\n",
       "    Rotation for ticks (xticks for vertical, yticks for horizontal\n",
       "    plots)\n",
       "fontsize : int, default None\n",
       "    Font size for xticks and yticks\n",
       "colormap : str or matplotlib colormap object, default None\n",
       "    Colormap to select colors from. If string, load colormap with that\n",
       "    name from matplotlib.\n",
       "colorbar : bool, optional\n",
       "    If True, plot colorbar (only relevant for 'scatter' and 'hexbin'\n",
       "    plots)\n",
       "position : float\n",
       "    Specify relative alignments for bar plot layout.\n",
       "    From 0 (left/bottom-end) to 1 (right/top-end). Default is 0.5\n",
       "    (center)\n",
       "table : bool, Series or DataFrame, default False\n",
       "    If True, draw a table using the data in the DataFrame and the data\n",
       "    will be transposed to meet matplotlib's default layout.\n",
       "    If a Series or DataFrame is passed, use passed data to draw a\n",
       "    table.\n",
       "yerr : DataFrame, Series, array-like, dict and str\n",
       "    See :ref:`Plotting with Error Bars <visualization.errorbars>` for\n",
       "    detail.\n",
       "xerr : DataFrame, Series, array-like, dict and str\n",
       "    Equivalent to yerr.\n",
       "mark_right : bool, default True\n",
       "    When using a secondary_y axis, automatically mark the column\n",
       "    labels with \"(right)\" in the legend\n",
       "`**kwds` : keywords\n",
       "    Options to pass to matplotlib plotting method\n",
       "\n",
       "Returns\n",
       "-------\n",
       ":class:`matplotlib.axes.Axes` or numpy.ndarray of them\n",
       "    If the backend is not the default matplotlib one, the return value\n",
       "    will be the object returned by the backend.\n",
       "\n",
       "Notes\n",
       "-----\n",
       "- See matplotlib documentation online for more on this subject\n",
       "- If `kind` = 'bar' or 'barh', you can specify relative alignments\n",
       "  for bar plot layout by `position` keyword.\n",
       "  From 0 (left/bottom-end) to 1 (right/top-end). Default is 0.5\n",
       "  (center)\n"
      ]
     },
     "metadata": {},
     "output_type": "display_data"
    }
   ],
   "source": [
    "? df.plot"
   ]
  },
  {
   "cell_type": "code",
   "execution_count": 21,
   "metadata": {},
   "outputs": [
    {
     "data": {
      "text/plain": [
       "<matplotlib.axes._subplots.AxesSubplot at 0x1193db390>"
      ]
     },
     "execution_count": 21,
     "metadata": {},
     "output_type": "execute_result"
    },
    {
     "data": {
      "image/png": "[encoded data removed]",
      "text/plain": [
       "<Figure size 432x288 with 1 Axes>"
      ]
     },
     "metadata": {
      "needs_background": "light"
     },
     "output_type": "display_data"
    }
   ],
   "source": [
    "ny = df[df.in_sf == 0]\n",
    "ny.plot('sqft', 'price', kind='scatter')"
   ]
  },
  {
   "cell_type": "code",
   "execution_count": 24,
   "metadata": {},
   "outputs": [
    {
     "data": {
      "text/plain": [
       "<matplotlib.axes._subplots.AxesSubplot at 0x11c92f350>"
      ]
     },
     "execution_count": 24,
     "metadata": {},
     "output_type": "execute_result"
    },
    {
     "data": {
      "image/png": "[encoded data removed]",
      "text/plain": [
       "<Figure size 432x288 with 1 Axes>"
      ]
     },
     "metadata": {
      "needs_background": "light"
     },
     "output_type": "display_data"
    }
   ],
   "source": [
    "sf = df[df.in_sf == 1]\n",
    "sf.plot('sqft', 'price', 'scatter')"
   ]
  },
  {
   "cell_type": "code",
   "execution_count": 28,
   "metadata": {},
   "outputs": [
    {
     "data": {
      "text/plain": [
       "<matplotlib.axes._subplots.AxesSubplot at 0x11e835c50>"
      ]
     },
     "execution_count": 28,
     "metadata": {},
     "output_type": "execute_result"
    },
    {
     "data": {
      "image/png": "[encoded data removed]",
      "text/plain": [
       "<Figure size 432x288 with 1 Axes>"
      ]
     },
     "metadata": {
      "needs_background": "light"
     },
     "output_type": "display_data"
    }
   ],
   "source": [
    "ny.sqft.plot(kind='hist', bins=40)"
   ]
  },
  {
   "cell_type": "code",
   "execution_count": 29,
   "metadata": {},
   "outputs": [
    {
     "data": {
      "text/plain": [
       "(array([19., 23., 30., 23., 36., 32., 25., 20., 15.,  9.,  8.,  2.,  3.,\n",
       "         2.,  4.,  4.,  1.,  2.,  2.,  0.,  1.,  0.,  1.,  1.,  1.,  1.,\n",
       "         1.,  0.,  0.,  0.,  1.,  0.,  0.,  0.,  0.,  0.,  0.,  0.,  0.,\n",
       "         1.]),\n",
       " array([ 507.   ,  689.325,  871.65 , 1053.975, 1236.3  , 1418.625,\n",
       "        1600.95 , 1783.275, 1965.6  , 2147.925, 2330.25 , 2512.575,\n",
       "        2694.9  , 2877.225, 3059.55 , 3241.875, 3424.2  , 3606.525,\n",
       "        3788.85 , 3971.175, 4153.5  , 4335.825, 4518.15 , 4700.475,\n",
       "        4882.8  , 5065.125, 5247.45 , 5429.775, 5612.1  , 5794.425,\n",
       "        5976.75 , 6159.075, 6341.4  , 6523.725, 6706.05 , 6888.375,\n",
       "        7070.7  , 7253.025, 7435.35 , 7617.675, 7800.   ]),\n",
       " <a list of 40 Patch objects>)"
      ]
     },
     "execution_count": 29,
     "metadata": {},
     "output_type": "execute_result"
    },
    {
     "data": {
      "image/png": "[encoded data removed]",
      "text/plain": [
       "<Figure size 432x288 with 1 Axes>"
      ]
     },
     "metadata": {
      "needs_background": "light"
     },
     "output_type": "display_data"
    }
   ],
   "source": [
    "# matplotlib direct syntax\n",
    "plt.hist(sf.sqft, bins=40)"
   ]
  },
  {
   "cell_type": "markdown",
   "metadata": {},
   "source": [
    "### Lab Activity\n",
    "\n",
    "1. What is the most expensive NY property (in price per square foot)? In SF?\n",
    "2. What are the top 10 highest elevation properties in SF? In NY?\n",
    "3. If you *didn't know* whether a property was in SF or NY, what info in the dataset (besides the `in_sf` flag, obviously) might be useful to figure out the property's location?\n",
    "4. How well would that work? Why?\n",
    "5. Do properties seem to have a \"price per bedroom\"? How would you ask (or answer) that kind of question?\n",
    "6. In SF, higher elevation properties might have a view, or they might be in nice neighborhoods like Nob Hill or Russian Hill. Does the elevation correlate with price?"
   ]
  },
  {
   "cell_type": "markdown",
   "metadata": {},
   "source": [
    "## Data Cleansing\n",
    "\n",
    "<img src=\"https://materials.s3.amazonaws.com/i/Data-Cleansing-tool.jpg\" width=500>\n",
    "\n",
    "__Typical Problems__\n",
    "* Incomplete records / missing values\n",
    "* Duplicate (or partial duplicate) records\n",
    "* Impossible values\n",
    "* Values that violate business rules\n",
    "* Sampling/distribution problem\n",
    "* Skewed values\n",
    "\n",
    "__Approaches to Cleansing/Repair__\n",
    "* Dropping records\n",
    "* Repairing values from alternate sources\n",
    "* Imputing values\n",
    "* Upsampling/downsampling/stratified sampling\n",
    "* Deskewing calculations\n",
    "* Normalization (scale to 0-1) / standardization (mean 0, sd 1)\n",
    "\n",
    "__BEWARE!__\n",
    "\n",
    "*Cleansing your data is like doing surgery: if you get it right, everyone will be happy ... and may not even notice anything happened.*\n",
    "\n",
    "*But: if you don't understand the data and problems thoroughly, and if you are not thoughtful about the effect of your intervention, you can create worse problems:*\n",
    "* System crashes\n",
    "* Financial (business) losses due to poor human or machine decision-making from the data\n",
    "* Legal liability for your company, your business unit, or yourself, due to violation of US or EU law around privacy, discrimination, accounting rules, etc."
   ]
  },
  {
   "cell_type": "markdown",
   "metadata": {},
   "source": [
    "## Terminology and \"Features\"\n",
    "\n",
    "On the business side, we often refer to parts of a dataset as \"records\" and \"fields\"...\n",
    "\n",
    "For example, in a denormalized dataset of customer purchases\n",
    "* information associated with a particular purchase is a record\n",
    "* the data elements inside that record (e.g., customer last name, item name, price, time, etc.) are fields\n",
    "\n",
    "__As we move our focus toward machine learning, we focus more on *features* associated with each record.__\n",
    "\n",
    "So what is a feature? And how is it different from a field?\n",
    "\n",
    "*Features* are values \n",
    "* that we as data scientists (or in some cases algorithms or programs) select or create\n",
    "* specifically for the purpose of capturing key information that will inform our model or goal\n",
    "* may be related to one or more fields in a data set\n",
    "* may involve a change of represenatation from the underlying data.\n",
    "\n",
    "Here are some examples:\n",
    "\n",
    "* Customer last name is a field in some records. Is it a feature? I.e., would we likely include it for its informational or predictive value about some business project? Probably not.\n",
    "* Customer phone number is a field. Might it be a feature?\n",
    "  * Area code and/or exchange (prefix) used to be geographically correlated ... so maybe ... especially if we are talking land lines only\n",
    "  * On the other hand, the last 4 digits are rarely meaningful\n",
    "  * For cell numbers, there might be some valuable info in the area code and exchange, but it's hard to know -- we might want to formulate an experiment to decide\n",
    "* Customer age might be a field in some data. Is it a feature?\n",
    "  * For some use cases, it might be extremely informative\n",
    "  * For other use cases, it might be flat out illegal to use\n",
    "* Suppose age is informative and legal for our project. But suppose that the exact age (26 vs. 27, say, or 53 vs. 55) is not terribly useful.\n",
    "  * We might transform the raw age *field* into a discrete feature.\n",
    "  * For example, we might group 0-17 as minors, 18-34 as young adult, 35-55 as middle age, etc.\n",
    "  * This pattern is called \"bucketing\" because we group values into a smaller number of buckets (which stand in for groups of raw values)\n",
    "  * This throws away some data but might make our model simpler or more accurate\n",
    "  \n",
    "There are many such patterns for extracting, transforming, and selecting features from a dataset for further use. There is no one right way to do it, and many machine learning experts have asserted that data and feature preparation is substantially *more* important to the end result than fancy mathematical algorithms."
   ]
  },
  {
   "cell_type": "markdown",
   "metadata": {},
   "source": [
    "### APPENDIX\n",
    "\n",
    "__CIFAR-10 Categories__\n",
    "\n",
    "`airplane\n",
    "automobile\n",
    "bird\n",
    "cat\n",
    "deer\n",
    "dog\n",
    "frog\n",
    "horse\n",
    "ship\n",
    "truck`"
   ]
  },
  {
   "cell_type": "markdown",
   "metadata": {},
   "source": [
    "__Some info around wine scores:__\n",
    "\n",
    "* https://www.winespectator.com/display/show/id/scoring-scale\n",
    "* https://medium.com/the-global-wine-score/the-global-wine-score-data-distribution-a97cb67a1182"
   ]
  },
  {
   "cell_type": "code",
   "execution_count": 35,
   "metadata": {},
   "outputs": [],
   "source": []
  }
 ],
 "metadata": {
  "kernelspec": {
   "display_name": "Python 3",
   "language": "python",
   "name": "python3"
  },
  "language_info": {
   "codemirror_mode": {
    "name": "ipython",
    "version": 3
   },
   "file_extension": ".py",
   "mimetype": "text/x-python",
   "name": "python",
   "nbconvert_exporter": "python",
   "pygments_lexer": "ipython3",
   "version": "3.7.4"
  },
  "name": "01-Data",
  "notebookId": 2375086480052240
 },
 "nbformat": 4,
 "nbformat_minor": 4
}
