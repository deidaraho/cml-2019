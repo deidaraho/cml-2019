{
 "cells": [
  {
   "cell_type": "markdown",
   "metadata": {},
   "source": [
    "### SVM Classifier Lab"
   ]
  },
  {
   "cell_type": "markdown",
   "metadata": {},
   "source": [
    "In this lab, we'll use a linear support vector machine to classify irises.\n",
    "\n",
    "This dataset (\"iris\") is one of the most famous in machine learning -- it contains 4 measurements for each of 150 iris instances, along with a label telling the iris type.\n",
    "\n",
    "The goal here is to expore the space of possible iris measurements, and see where a SVC draws its boundary lines."
   ]
  },
  {
   "cell_type": "code",
   "execution_count": 1,
   "metadata": {},
   "outputs": [],
   "source": [
    "import numpy as np\n",
    "import matplotlib.pyplot as plt\n",
    "from sklearn import datasets\n",
    "from sklearn.svm import SVC"
   ]
  },
  {
   "cell_type": "code",
   "execution_count": 2,
   "metadata": {},
   "outputs": [
    {
     "data": {
      "text/plain": [
       "['DESCR', 'data', 'feature_names', 'filename', 'target', 'target_names']"
      ]
     },
     "execution_count": 2,
     "metadata": {},
     "output_type": "execute_result"
    }
   ],
   "source": [
    "iris = datasets.load_iris()\n",
    "dir(iris)"
   ]
  },
  {
   "cell_type": "code",
   "execution_count": 3,
   "metadata": {},
   "outputs": [
    {
     "data": {
      "text/plain": [
       "['sepal length (cm)',\n",
       " 'sepal width (cm)',\n",
       " 'petal length (cm)',\n",
       " 'petal width (cm)']"
      ]
     },
     "execution_count": 3,
     "metadata": {},
     "output_type": "execute_result"
    }
   ],
   "source": [
    "iris.feature_names"
   ]
  },
  {
   "cell_type": "code",
   "execution_count": 4,
   "metadata": {},
   "outputs": [
    {
     "data": {
      "text/plain": [
       "array([5.1, 3.5, 1.4, 0.2])"
      ]
     },
     "execution_count": 4,
     "metadata": {},
     "output_type": "execute_result"
    }
   ],
   "source": [
    "iris.data[0]"
   ]
  },
  {
   "cell_type": "code",
   "execution_count": 5,
   "metadata": {},
   "outputs": [
    {
     "data": {
      "text/plain": [
       "array(['setosa', 'versicolor', 'virginica'], dtype='<U10')"
      ]
     },
     "execution_count": 5,
     "metadata": {},
     "output_type": "execute_result"
    }
   ],
   "source": [
    "iris.target_names"
   ]
  },
  {
   "cell_type": "code",
   "execution_count": 6,
   "metadata": {},
   "outputs": [
    {
     "data": {
      "text/plain": [
       "0"
      ]
     },
     "execution_count": 6,
     "metadata": {},
     "output_type": "execute_result"
    }
   ],
   "source": [
    "iris.target[0]"
   ]
  },
  {
   "cell_type": "markdown",
   "metadata": {},
   "source": [
    "In order to make it easy to visualize the classification, we'll just use 2 of the 4 features.\n",
    "\n",
    "That way, we the feature space is 2-dimensional, and we can plot it. We'll indicate the classification itself using colors/symbols at each point."
   ]
  },
  {
   "cell_type": "code",
   "execution_count": 7,
   "metadata": {},
   "outputs": [],
   "source": [
    "# The petal len + width:\n",
    "X = iris[\"data\"][:, (2, 3)]\n",
    "y = iris[\"target\"].astype(np.float)"
   ]
  },
  {
   "cell_type": "markdown",
   "metadata": {},
   "source": [
    "To make a simple linear support-vector classifier, we'll use scikit-learn's SVC class: http://scikit-learn.org/stable/modules/generated/sklearn.svm.SVC.html"
   ]
  },
  {
   "cell_type": "code",
   "execution_count": 8,
   "metadata": {},
   "outputs": [
    {
     "data": {
      "text/plain": [
       "SVC(C=1, cache_size=200, class_weight=None, coef0=0.0,\n",
       "    decision_function_shape='ovr', degree=3, gamma='auto_deprecated',\n",
       "    kernel='linear', max_iter=-1, probability=False, random_state=None,\n",
       "    shrinking=True, tol=0.001, verbose=False)"
      ]
     },
     "execution_count": 8,
     "metadata": {},
     "output_type": "execute_result"
    }
   ],
   "source": [
    "svm_clf = SVC(1, \"linear\")\n",
    "svm_clf.fit(X, y)"
   ]
  },
  {
   "cell_type": "markdown",
   "metadata": {},
   "source": [
    "Hmmm... we just trained on all of the data... What happened to training, evaluation, test, and all that?\n",
    "\n",
    "In this case, we are less interested in measuring the accuracy of the classifier, and more interested in visualizing how it sees the \"space\" (or world) of data (iris) instances.\n",
    "\n",
    "* We'll actually be able to see the accuracy (or inaccuracy) here because this dataset is so small, we can look at all of the points!"
   ]
  },
  {
   "cell_type": "code",
   "execution_count": 9,
   "metadata": {},
   "outputs": [
    {
     "name": "stdout",
     "output_type": "stream",
     "text": [
      "[[0.         0.04020101 0.08040201 ... 7.91959799 7.95979899 8.        ]\n",
      " [0.         0.04020101 0.08040201 ... 7.91959799 7.95979899 8.        ]\n",
      " [0.         0.04020101 0.08040201 ... 7.91959799 7.95979899 8.        ]\n",
      " ...\n",
      " [0.         0.04020101 0.08040201 ... 7.91959799 7.95979899 8.        ]\n",
      " [0.         0.04020101 0.08040201 ... 7.91959799 7.95979899 8.        ]\n",
      " [0.         0.04020101 0.08040201 ... 7.91959799 7.95979899 8.        ]]\n"
     ]
    }
   ],
   "source": [
    "# Make a grid of points throughout the feature space:\n",
    "\n",
    "x0, x1 = np.meshgrid(\n",
    "    np.linspace(0, 8, 200).reshape(-1, 1),\n",
    "    np.linspace(0, 3, 200).reshape(-1, 1)\n",
    ")\n",
    "\n",
    "print(x0)"
   ]
  },
  {
   "cell_type": "code",
   "execution_count": 10,
   "metadata": {},
   "outputs": [
    {
     "name": "stdout",
     "output_type": "stream",
     "text": [
      "(40000, 2)\n",
      "[[0.         0.        ]\n",
      " [0.04020101 0.        ]\n",
      " [0.08040201 0.        ]]\n",
      "[[0.         0.01507538]\n",
      " [0.04020101 0.01507538]\n",
      " [0.08040201 0.01507538]]\n"
     ]
    }
   ],
   "source": [
    "X_new = np.c_[x0.ravel(), x1.ravel()]\n",
    "\n",
    "print(X_new.shape)\n",
    "\n",
    "print(X_new[:3])\n",
    "\n",
    "print(X_new[200:203])"
   ]
  },
  {
   "cell_type": "markdown",
   "metadata": {},
   "source": [
    "Now we'll get a prediction for every point in this chunk of feature space, and shape it so a prediction \"goes with\" each point:"
   ]
  },
  {
   "cell_type": "code",
   "execution_count": 11,
   "metadata": {},
   "outputs": [
    {
     "data": {
      "text/plain": [
       "array([0., 0., 0., 0., 0., 0., 0., 0., 0., 0., 0., 0., 0., 0., 0., 0., 0.,\n",
       "       0., 0., 0., 0., 0., 0., 0., 0., 0., 0., 0., 0., 0., 0., 0., 0., 0.,\n",
       "       0., 0., 0., 0., 0., 0., 0., 0., 0., 0., 0., 0., 0., 0., 0., 0., 0.,\n",
       "       0., 0., 0., 0., 0., 0., 0., 0., 0., 0., 0., 0., 0., 0., 0., 0., 0.,\n",
       "       0., 0., 0., 0., 0., 0., 0., 1., 1., 1., 1., 1., 1., 1., 1., 1., 1.,\n",
       "       1., 1., 1., 1., 1., 1., 1., 1., 1., 1., 1., 1., 1., 1., 1., 1., 1.,\n",
       "       1., 1., 1., 1., 1., 1., 1., 1., 1., 1., 1., 1., 1., 1., 1., 1., 1.,\n",
       "       1., 1., 1., 1., 1., 1., 1., 1., 1., 1., 1., 1., 1., 1., 1., 1., 1.,\n",
       "       1., 1., 1., 1., 1., 1., 1., 1., 1., 1., 1., 1., 1., 1., 1., 1., 1.,\n",
       "       1., 1., 1., 1., 1., 1., 1., 1., 1., 1., 1., 1., 2., 2., 2., 2., 2.,\n",
       "       2., 2., 2., 2., 2., 2., 2., 2., 2., 2., 2., 2., 2., 2., 2., 2., 2.,\n",
       "       2., 2., 2., 2., 2., 2., 2., 2., 2., 2., 2., 2., 2.])"
      ]
     },
     "execution_count": 11,
     "metadata": {},
     "output_type": "execute_result"
    }
   ],
   "source": [
    "y_predict = svm_clf.predict(X_new)\n",
    "\n",
    "zz = y_predict.reshape(x0.shape)\n",
    "\n",
    "zz[0] # predictions as x0 \"goes\" from 0 to 8 cm"
   ]
  },
  {
   "cell_type": "markdown",
   "metadata": {},
   "source": [
    "Here is how the classifier is dividing up the space of petal length, petal width"
   ]
  },
  {
   "cell_type": "code",
   "execution_count": 12,
   "metadata": {},
   "outputs": [
    {
     "data": {
      "text/plain": [
       "<matplotlib.contour.QuadContourSet at 0x1a19362650>"
      ]
     },
     "execution_count": 12,
     "metadata": {},
     "output_type": "execute_result"
    },
    {
     "data": {
      "image/png": "[encoded data removed]",
      "text/plain": [
       "<Figure size 432x288 with 1 Axes>"
      ]
     },
     "metadata": {
      "needs_background": "light"
     },
     "output_type": "display_data"
    }
   ],
   "source": [
    "plt.contourf(x0, x1, zz)"
   ]
  },
  {
   "cell_type": "markdown",
   "metadata": {},
   "source": [
    "Well, ok ... but is it any good? Let's plot the real flowers and their classes onto this visualization and see.\n",
    "\n",
    "Recall that earlier we made X a view onto the the petal length and width values, and y a view onto the target column\n",
    "\n",
    "```\n",
    "# The petal len + width:\n",
    "X = iris[\"data\"][:, (2, 3)]\n",
    "y = iris[\"target\"].astype(np.float)\n",
    "```\n",
    "\n",
    "This lets us use some fancy indexing tricks almost like a \"WHERE clause\" to find matching records. Then we can give each matching group its own color and symbol."
   ]
  },
  {
   "cell_type": "code",
   "execution_count": 13,
   "metadata": {},
   "outputs": [
    {
     "data": {
      "text/plain": [
       "[<matplotlib.lines.Line2D at 0x1a19726bd0>]"
      ]
     },
     "execution_count": 13,
     "metadata": {},
     "output_type": "execute_result"
    },
    {
     "data": {
      "image/png": "[encoded data removed]",
      "text/plain": [
       "<Figure size 432x288 with 1 Axes>"
      ]
     },
     "metadata": {
      "needs_background": "light"
     },
     "output_type": "display_data"
    }
   ],
   "source": [
    "plt.contourf(x0, x1, zz)\n",
    "plt.plot(X[y == 2, 0], X[y == 2, 1], \"g^\") #Virginica\n",
    "plt.plot(X[y == 1, 0], X[y == 1, 1], \"bs\") #Versicolor\n",
    "plt.plot(X[y == 0, 0], X[y == 0, 1], \"yo\") #Setosa"
   ]
  },
  {
   "cell_type": "code",
   "execution_count": 21,
   "metadata": {},
   "outputs": [],
   "source": []
  }
 ],
 "metadata": {
  "kernelspec": {
   "display_name": "Python 3",
   "language": "python",
   "name": "python3"
  },
  "language_info": {
   "codemirror_mode": {
    "name": "ipython",
    "version": 3
   },
   "file_extension": ".py",
   "mimetype": "text/x-python",
   "name": "python",
   "nbconvert_exporter": "python",
   "pygments_lexer": "ipython3",
   "version": "3.7.4"
  },
  "name": "01b-SVM",
  "notebookId": 2375086480048845
 },
 "nbformat": 4,
 "nbformat_minor": 4
}
